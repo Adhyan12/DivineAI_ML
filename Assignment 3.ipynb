{
 "cells": [
  {
   "cell_type": "code",
   "execution_count": null,
   "id": "349ea325",
   "metadata": {},
   "outputs": [],
   "source": [
    "#WAP to print table of n, where n is entered by the user\n",
    "\n",
    "def table(number,times):\n",
    "    i =1\n",
    "    while i<=times:\n",
    "        print(number,'*',i,'=',number*i)\n",
    "        i=i+1\n",
    "def main():\n",
    "    number = int(input(\"Enter the number to calculate it's table: \"))\n",
    "    times = int(input(\"Till where do you want it's table: \"))\n",
    "    table(number,times)\n",
    "main()"
   ]
  },
  {
   "cell_type": "code",
   "execution_count": null,
   "id": "1782ae31",
   "metadata": {},
   "outputs": [],
   "source": [
    "#WAP to print sum of n natural numbers, where n is entered by the user\n",
    "\n",
    "number = int(input(\"Enter number of nautural numbers: \"))\n",
    "sum = int((number * (number+1))/2)\n",
    "print(\"Their sum is\", sum)"
   ]
  },
  {
   "cell_type": "code",
   "execution_count": null,
   "id": "0015a479",
   "metadata": {},
   "outputs": [],
   "source": [
    "#WAP to print the factorial of the given number, where number is entered by the user. \n",
    "#ask sir about return n==0 ?1 : n*facto(n-1)\n",
    "\n",
    "def facto(n):\n",
    "    if(n==0):return 1\n",
    "    else: return n*facto(n-1)\n",
    "def main():\n",
    "    number = int(input(\"Enter the number to calculate it's factorial: \"))\n",
    "    print(\"It's factorial is \", facto(number))\n",
    "main()"
   ]
  },
  {
   "cell_type": "code",
   "execution_count": null,
   "id": "f5cdbd9d",
   "metadata": {},
   "outputs": [],
   "source": [
    "#WAP to input sales of the month and calculate the average sales of that month\n",
    "\n",
    "cont = 1\n",
    "count=sum=0\n",
    "while cont== 1:\n",
    "    try:\n",
    "        number = int(input(\"Enter the amount sold: \"))\n",
    "    except: number =0\n",
    "    count+=1\n",
    "    sum+=number\n",
    "    try :\n",
    "        cont= int(input(\"Enter 1 to enter more or press any other key to calculate average: \"))\n",
    "    except: cont=0\n",
    "print(\"The average of the monthly sale is\", sum/count)\n"
   ]
  },
  {
   "cell_type": "code",
   "execution_count": null,
   "id": "13cd6cde",
   "metadata": {},
   "outputs": [],
   "source": [
    "#WAP to print natural numbers from 1 to n, n is entered by the user\n",
    "\n",
    "def natural(number):\n",
    "    i=1\n",
    "    while i<=number:\n",
    "        print(i,' ')\n",
    "        i+=1\n",
    "def main():\n",
    "    num = int(input(\"Till where do you want the natural numbers: \"))\n",
    "    natural(num)\n",
    "main()"
   ]
  },
  {
   "cell_type": "code",
   "execution_count": null,
   "id": "c8bf7c5d",
   "metadata": {},
   "outputs": [],
   "source": []
  }
 ],
 "metadata": {
  "kernelspec": {
   "display_name": "Python 3 (ipykernel)",
   "language": "python",
   "name": "python3"
  },
  "language_info": {
   "codemirror_mode": {
    "name": "ipython",
    "version": 3
   },
   "file_extension": ".py",
   "mimetype": "text/x-python",
   "name": "python",
   "nbconvert_exporter": "python",
   "pygments_lexer": "ipython3",
   "version": "3.9.7"
  }
 },
 "nbformat": 4,
 "nbformat_minor": 5
}
