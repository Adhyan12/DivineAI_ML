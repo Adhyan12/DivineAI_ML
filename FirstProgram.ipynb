{
 "cells": [
  {
   "cell_type": "code",
   "execution_count": null,
   "id": "6bbba151",
   "metadata": {},
   "outputs": [],
   "source": [
    "import os\n",
    "print(os.getcwd())"
   ]
  },
  {
   "cell_type": "code",
   "execution_count": null,
   "id": "29a4aeba",
   "metadata": {},
   "outputs": [],
   "source": [
    "print(\"good morning\")"
   ]
  },
  {
   "cell_type": "code",
   "execution_count": null,
   "id": "90148fd4",
   "metadata": {},
   "outputs": [],
   "source": [
    "round(2.5)"
   ]
  },
  {
   "cell_type": "code",
   "execution_count": null,
   "id": "435210c2",
   "metadata": {},
   "outputs": [],
   "source": [
    "ciel(2.5)"
   ]
  },
  {
   "cell_type": "code",
   "execution_count": null,
   "id": "11254fea",
   "metadata": {},
   "outputs": [],
   "source": [
    "floor(2.5)"
   ]
  },
  {
   "cell_type": "code",
   "execution_count": null,
   "id": "4cff6aad",
   "metadata": {},
   "outputs": [],
   "source": [
    "a = ceil(2.5)\n",
    "print(a)"
   ]
  },
  {
   "cell_type": "code",
   "execution_count": null,
   "id": "1b1a88b6",
   "metadata": {},
   "outputs": [],
   "source": [
    "math.ceil(2.5)"
   ]
  },
  {
   "cell_type": "code",
   "execution_count": 4,
   "id": "bc5f385f",
   "metadata": {},
   "outputs": [
    {
     "data": {
      "text/plain": [
       "3"
      ]
     },
     "execution_count": 4,
     "metadata": {},
     "output_type": "execute_result"
    }
   ],
   "source": [
    "import math\n",
    "math.ceil(2.5)"
   ]
  },
  {
   "cell_type": "code",
   "execution_count": 5,
   "id": "b3806817",
   "metadata": {},
   "outputs": [
    {
     "data": {
      "text/plain": [
       "2"
      ]
     },
     "execution_count": 5,
     "metadata": {},
     "output_type": "execute_result"
    }
   ],
   "source": [
    "\n",
    "math.floor(2.5)"
   ]
  },
  {
   "cell_type": "code",
   "execution_count": null,
   "id": "de8d4ff3",
   "metadata": {},
   "outputs": [],
   "source": [
    "print(\"kn'ight's\")"
   ]
  },
  {
   "cell_type": "code",
   "execution_count": null,
   "id": "bf6e53e9",
   "metadata": {},
   "outputs": [],
   "source": [
    "print('knight\\'s')"
   ]
  },
  {
   "cell_type": "code",
   "execution_count": null,
   "id": "52a8158e",
   "metadata": {},
   "outputs": [],
   "source": [
    "a= 13\n",
    "a/=5\n",
    "print(a)"
   ]
  },
  {
   "cell_type": "code",
   "execution_count": null,
   "id": "bac57cb0",
   "metadata": {},
   "outputs": [],
   "source": [
    "a=13\n",
    "a//=5\n",
    "print(a)"
   ]
  },
  {
   "cell_type": "code",
   "execution_count": null,
   "id": "dcbcb1b3",
   "metadata": {},
   "outputs": [],
   "source": [
    "round(2.6)"
   ]
  },
  {
   "cell_type": "code",
   "execution_count": null,
   "id": "4e5a7aec",
   "metadata": {},
   "outputs": [],
   "source": []
  }
 ],
 "metadata": {
  "kernelspec": {
   "display_name": "Python 3 (ipykernel)",
   "language": "python",
   "name": "python3"
  },
  "language_info": {
   "codemirror_mode": {
    "name": "ipython",
    "version": 3
   },
   "file_extension": ".py",
   "mimetype": "text/x-python",
   "name": "python",
   "nbconvert_exporter": "python",
   "pygments_lexer": "ipython3",
   "version": "3.9.7"
  }
 },
 "nbformat": 4,
 "nbformat_minor": 5
}
