{
 "cells": [
  {
   "cell_type": "code",
   "execution_count": 10,
   "id": "ea828c5e",
   "metadata": {},
   "outputs": [
    {
     "name": "stdout",
     "output_type": "stream",
     "text": [
      "46\n"
     ]
    }
   ],
   "source": [
    "def findgreat(list , n):\n",
    "    greatestlist= []\n",
    "    for i in range(n):\n",
    "        great=0\n",
    "        for j in list:\n",
    "            if j>great:\n",
    "                great= j\n",
    "        greatestlist.append(j)\n",
    "        list.remove(j)\n",
    "    return greatestlist[n-1]\n",
    "def main():\n",
    "    list = [1,2,30,45,46,60]\n",
    "    result =findgreat(list, 2)\n",
    "    print(result)\n",
    "\n",
    "main()"
   ]
  },
  {
   "cell_type": "code",
   "execution_count": null,
   "id": "da65d057",
   "metadata": {},
   "outputs": [],
   "source": [
    "#code by shubham for the same assignment\n",
    "def result(li,n):\n",
    "  x = None\n",
    "  for i in range(n):\n",
    "    x = max(li)\n",
    "    li.remove(x)\n",
    "  return x\n",
    "\n",
    "def main():\n",
    " n = int(input(\"Enter the value of n: \"))\n",
    " li = [10,30,60,20,50,80,90,70,40]            #10,20,30,40,50,60,70,80,90.\n",
    " print(n,\"highest value: \",result(li,n))\n",
    "\n",
    "main()"
   ]
  }
 ],
 "metadata": {
  "kernelspec": {
   "display_name": "Python 3 (ipykernel)",
   "language": "python",
   "name": "python3"
  },
  "language_info": {
   "codemirror_mode": {
    "name": "ipython",
    "version": 3
   },
   "file_extension": ".py",
   "mimetype": "text/x-python",
   "name": "python",
   "nbconvert_exporter": "python",
   "pygments_lexer": "ipython3",
   "version": "3.9.7"
  }
 },
 "nbformat": 4,
 "nbformat_minor": 5
}
